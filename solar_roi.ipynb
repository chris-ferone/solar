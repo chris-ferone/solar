{
 "cells": [
  {
   "cell_type": "markdown",
   "metadata": {},
   "source": [
    "# Solar Panel Return on Investment\n",
    "This notebook calculates the payback period and Return on Investment (ROI) of a ground mount solar panel array facing southwest in Ann Arbor, MI."
   ]
  },
  {
   "cell_type": "code",
   "execution_count": 25,
   "metadata": {},
   "outputs": [
    {
     "name": "stdout",
     "output_type": "stream",
     "text": [
      "D1_11 Purchase Rates\n",
      "\tSummer Peak: 22.897\n",
      "\tSummer OffP: 17.370\n",
      "\tWinter Peak: 18.669\n",
      "\tWinter OffP: 17.370\n",
      "\n",
      "D1_2 Purchase Rates\n",
      "\tSummer Peak: 23.934\n",
      "\tSummer OffP: 13.892\n",
      "\tWinter Peak: 21.583\n",
      "\tWinter OffP: 13.693\n",
      "\n"
     ]
    }
   ],
   "source": [
    "import json\n",
    "\n",
    "# Open JSON file containing electricity rates\n",
    "f = open('electricity_rates.json')\n",
    "# Returns JSON object as a dictionary\n",
    "elctr_rates = json.load(f) \n",
    "# Close file\n",
    "f.close()\n",
    "\n",
    "# Create class to calculate electricity rates purchase and sell back rates\n",
    "# DTE Residential Electric Pricing Options:\n",
    "# https://newlook.dteenergy.com/wps/wcm/connect/23195474-a4d1-4d38-aa30-a4426fd3336b/WholeHouseRateOptions.pdf?MOD=AJPERES\n",
    "\n",
    "class Rate:\n",
    "    def __init__(self, name, elctr_rates):\n",
    "        pscr = elctr_rates['time_invariant_costs'][0]['pscr']\n",
    "        self.distr = elctr_rates['time_invariant_costs'][0]['distr']\n",
    "\n",
    "        for rate in elctr_rates['time_varying_costs']:\n",
    "            if rate['name'] == name:\n",
    "                self.name = rate['name']              \n",
    "                if name == 'D1_8':\n",
    "                    self.peak = rate['peak_hours']\n",
    "                    self.mdpeak = rate['mdpeak_hours']\n",
    "                    self.peak_sell = rate['peak_cap'] + rate['peak_ncp'] + pscr\n",
    "                    self.midpk_sell = rate['midpk_cap'] + rate['midpk_ncp'] + pscr\n",
    "                    self.offpk_sell = rate['offpk_cap'] + rate['offpk_ncp'] + pscr\n",
    "                    self.peak_buy = self.peak_sell + self.distr\n",
    "                    self.midpk_buy = self.midpk_sell + self.distr  \n",
    "                    self.offpk_buy = self.offpk_sell + self.distr\n",
    "                    # calc price over 24 period\n",
    "                    self.sell = []\n",
    "                    for hour in range(0,24):\n",
    "                        if (hour >= self.peak[0]) and (hour < self.peak[1]):\n",
    "                            # on peak\n",
    "                            self.sell.append(self.peak_sell)\n",
    "                        elif ((hour >= self.mdpeak[0][0]) and (hour < self.mdpeak[0][1]) or (hour >= self.mdpeak[1][0]) and (hour < self.mdpeak[1][1])):\n",
    "                            # mid peak\n",
    "                            self.sell.append(self.midpk_sell)\n",
    "                        else:\n",
    "                            # off peak\n",
    "                            self.sell.append(self.offpk_sell)\n",
    "                    self.buy = [x + self.distr for x in self.sell]\n",
    "                    # Print purchase rates\n",
    "                    if False:\n",
    "                        print(self.name + \" Purchase Rates\")\n",
    "                        print(\"\\tPeak: %.3f\" % self.peak_buy)\n",
    "                        print(\"\\tMid Peak: %.3f\" % self.midpk_buy)\n",
    "                        print(\"\\tOff Peak: %.3f\" % self.offpk_buy + \"\\n\")\n",
    "                if name == \"D1_11\" or name == \"D1_2\":\n",
    "                    self.smmr = rate['smmr_mnths']\n",
    "                    self.peak = rate['peak_hours']\n",
    "                    # Calculate cost to purchase and sell back electricity in the summer and\n",
    "                    # winter during on-peak and off-peak hours\n",
    "                    self.smmr_peak_sell = rate['smmr_peak_cap'] + rate['smmr_peak_ncp'] + pscr\n",
    "                    self.smmr_offpk_sell = rate['smmr_offpk_cap'] + rate['smmr_offpk_ncp'] + pscr\n",
    "                    self.wntr_peak_sell = rate['wntr_peak_cap'] + rate['wntr_peak_ncp'] + pscr\n",
    "                    self.wntr_offpk_sell = rate['wntr_offpk_cap'] + rate['wntr_offpk_ncp'] + pscr\n",
    "                    self.smmr_peak_buy = self.smmr_peak_sell + self.distr\n",
    "                    self.smmr_offpk_buy = self.smmr_offpk_sell + self.distr\n",
    "                    self.wntr_peak_buy = self.wntr_peak_sell + self.distr\n",
    "                    self.wntr_offpk_buy = self.wntr_offpk_sell + self.distr\n",
    "                    # calc price over 24 period\n",
    "                    self.smmr_sell = []\n",
    "                    self.wntr_sell = []\n",
    "                    for month in range(0,12):\n",
    "                        if (month < self.smmr[0]) or (month > self.smmr[1]):\n",
    "                            # winter\n",
    "                            for hour in range(0,24):\n",
    "                                if (hour < self.peak[0]) or (hour >= self.peak[1]):\n",
    "                                    # off peak\n",
    "                                    self.wntr_sell.append(self.wntr_offpk_sell)\n",
    "                                else:\n",
    "                                    # on peak\n",
    "                                    self.wntr_sell.append(self.wntr_peak_sell)\n",
    "                        else:\n",
    "                            # summer\n",
    "                            for hour in range(0,24):\n",
    "                                if (hour < self.peak[0]) or (hour >= self.peak[1]):\n",
    "                                    # off peak\n",
    "                                    self.smmr_sell.append(self.smmr_offpk_sell)\n",
    "                                else:\n",
    "                                    # on peak\n",
    "                                    self.smmr_sell.append(self.smmr_peak_sell)\n",
    "                    self.smmr_buy = [x + self.distr for x in self.smmr_sell]\n",
    "                    self.wntr_buy = [x + self.distr for x in self.wntr_sell]\n",
    "                    # Print purchase rates\n",
    "                    if True:\n",
    "                        print(self.name + \" Purchase Rates\")\n",
    "                        print(\"\\tSummer Peak: %.3f\" % self.smmr_peak_buy)\n",
    "                        print(\"\\tSummer OffP: %.3f\" % self.smmr_offpk_buy)\n",
    "                        print(\"\\tWinter Peak: %.3f\" % self.wntr_peak_buy)\n",
    "                        print(\"\\tWinter OffP: %.3f\" % self.wntr_offpk_buy + \"\\n\")\n",
    "   \n",
    "# Define electricity rates\n",
    "D1_11 = Rate(\"D1_11\", elctr_rates)\n",
    "D1_2 = Rate(\"D1_2\", elctr_rates)\n",
    "D1_8 = Rate(\"D1_8\", elctr_rates)"
   ]
  },
  {
   "cell_type": "code",
   "execution_count": 26,
   "metadata": {},
   "outputs": [
    {
     "data": {
      "application/vnd.plotly.v1+json": {
       "config": {
        "plotlyServerURL": "https://plot.ly"
       },
       "data": [
        {
         "mode": "lines+markers",
         "name": "D1.8_sell",
         "type": "scatter",
         "x": [
          0,
          1,
          2,
          3,
          4,
          5,
          6,
          7,
          8,
          9,
          10,
          11,
          12,
          13,
          14,
          15,
          16,
          17,
          18,
          19,
          20,
          21,
          22,
          23
         ],
         "y": [
          6.504,
          6.504,
          6.504,
          6.504,
          6.504,
          6.504,
          6.504,
          10.806,
          10.806,
          10.806,
          10.806,
          10.806,
          10.806,
          10.806,
          10.806,
          17.978,
          17.978,
          17.978,
          17.978,
          10.806,
          10.806,
          10.806,
          10.806,
          6.504
         ]
        },
        {
         "mode": "lines+markers",
         "name": "D1.11_smmr_sell",
         "type": "scatter",
         "x": [
          0,
          1,
          2,
          3,
          4,
          5,
          6,
          7,
          8,
          9,
          10,
          11,
          12,
          13,
          14,
          15,
          16,
          17,
          18,
          19,
          20,
          21,
          22,
          23
         ],
         "y": [
          10.491,
          10.491,
          10.491,
          10.491,
          10.491,
          10.491,
          10.491,
          10.491,
          10.491,
          10.491,
          10.491,
          10.491,
          10.491,
          10.491,
          10.491,
          16.018,
          16.018,
          16.018,
          16.018,
          10.491,
          10.491,
          10.491,
          10.491,
          10.491,
          10.491,
          10.491,
          10.491,
          10.491,
          10.491,
          10.491,
          10.491,
          10.491,
          10.491,
          10.491,
          10.491,
          10.491,
          10.491,
          10.491,
          10.491,
          16.018,
          16.018,
          16.018,
          16.018,
          10.491,
          10.491,
          10.491,
          10.491,
          10.491,
          10.491,
          10.491,
          10.491,
          10.491,
          10.491,
          10.491,
          10.491,
          10.491,
          10.491,
          10.491,
          10.491,
          10.491,
          10.491,
          10.491,
          10.491,
          16.018,
          16.018,
          16.018,
          16.018,
          10.491,
          10.491,
          10.491,
          10.491,
          10.491,
          10.491,
          10.491,
          10.491,
          10.491,
          10.491,
          10.491,
          10.491,
          10.491,
          10.491,
          10.491,
          10.491,
          10.491,
          10.491,
          10.491,
          10.491,
          16.018,
          16.018,
          16.018,
          16.018,
          10.491,
          10.491,
          10.491,
          10.491,
          10.491
         ]
        },
        {
         "mode": "lines+markers",
         "name": "D1.11_wntr_sell",
         "type": "scatter",
         "x": [
          0,
          1,
          2,
          3,
          4,
          5,
          6,
          7,
          8,
          9,
          10,
          11,
          12,
          13,
          14,
          15,
          16,
          17,
          18,
          19,
          20,
          21,
          22,
          23
         ],
         "y": [
          10.491,
          10.491,
          10.491,
          10.491,
          10.491,
          10.491,
          10.491,
          10.491,
          10.491,
          10.491,
          10.491,
          10.491,
          10.491,
          10.491,
          10.491,
          11.79,
          11.79,
          11.79,
          11.79,
          10.491,
          10.491,
          10.491,
          10.491,
          10.491,
          10.491,
          10.491,
          10.491,
          10.491,
          10.491,
          10.491,
          10.491,
          10.491,
          10.491,
          10.491,
          10.491,
          10.491,
          10.491,
          10.491,
          10.491,
          11.79,
          11.79,
          11.79,
          11.79,
          10.491,
          10.491,
          10.491,
          10.491,
          10.491,
          10.491,
          10.491,
          10.491,
          10.491,
          10.491,
          10.491,
          10.491,
          10.491,
          10.491,
          10.491,
          10.491,
          10.491,
          10.491,
          10.491,
          10.491,
          11.79,
          11.79,
          11.79,
          11.79,
          10.491,
          10.491,
          10.491,
          10.491,
          10.491,
          10.491,
          10.491,
          10.491,
          10.491,
          10.491,
          10.491,
          10.491,
          10.491,
          10.491,
          10.491,
          10.491,
          10.491,
          10.491,
          10.491,
          10.491,
          11.79,
          11.79,
          11.79,
          11.79,
          10.491,
          10.491,
          10.491,
          10.491,
          10.491,
          10.491,
          10.491,
          10.491,
          10.491,
          10.491,
          10.491,
          10.491,
          10.491,
          10.491,
          10.491,
          10.491,
          10.491,
          10.491,
          10.491,
          10.491,
          11.79,
          11.79,
          11.79,
          11.79,
          10.491,
          10.491,
          10.491,
          10.491,
          10.491,
          10.491,
          10.491,
          10.491,
          10.491,
          10.491,
          10.491,
          10.491,
          10.491,
          10.491,
          10.491,
          10.491,
          10.491,
          10.491,
          10.491,
          10.491,
          11.79,
          11.79,
          11.79,
          11.79,
          10.491,
          10.491,
          10.491,
          10.491,
          10.491,
          10.491,
          10.491,
          10.491,
          10.491,
          10.491,
          10.491,
          10.491,
          10.491,
          10.491,
          10.491,
          10.491,
          10.491,
          10.491,
          10.491,
          10.491,
          11.79,
          11.79,
          11.79,
          11.79,
          10.491,
          10.491,
          10.491,
          10.491,
          10.491,
          10.491,
          10.491,
          10.491,
          10.491,
          10.491,
          10.491,
          10.491,
          10.491,
          10.491,
          10.491,
          10.491,
          10.491,
          10.491,
          10.491,
          10.491,
          11.79,
          11.79,
          11.79,
          11.79,
          10.491,
          10.491,
          10.491,
          10.491,
          10.491
         ]
        },
        {
         "mode": "lines+markers",
         "name": "D1.2_smmr_sell",
         "type": "scatter",
         "x": [
          0,
          1,
          2,
          3,
          4,
          5,
          6,
          7,
          8,
          9,
          10,
          11,
          12,
          13,
          14,
          15,
          16,
          17,
          18,
          19,
          20,
          21,
          22,
          23
         ],
         "y": [
          7.013,
          7.013,
          7.013,
          7.013,
          7.013,
          7.013,
          7.013,
          7.013,
          7.013,
          7.013,
          7.013,
          17.055,
          17.055,
          17.055,
          17.055,
          17.055,
          17.055,
          17.055,
          17.055,
          7.013,
          7.013,
          7.013,
          7.013,
          7.013,
          7.013,
          7.013,
          7.013,
          7.013,
          7.013,
          7.013,
          7.013,
          7.013,
          7.013,
          7.013,
          7.013,
          17.055,
          17.055,
          17.055,
          17.055,
          17.055,
          17.055,
          17.055,
          17.055,
          7.013,
          7.013,
          7.013,
          7.013,
          7.013,
          7.013,
          7.013,
          7.013,
          7.013,
          7.013,
          7.013,
          7.013,
          7.013,
          7.013,
          7.013,
          7.013,
          17.055,
          17.055,
          17.055,
          17.055,
          17.055,
          17.055,
          17.055,
          17.055,
          7.013,
          7.013,
          7.013,
          7.013,
          7.013,
          7.013,
          7.013,
          7.013,
          7.013,
          7.013,
          7.013,
          7.013,
          7.013,
          7.013,
          7.013,
          7.013,
          17.055,
          17.055,
          17.055,
          17.055,
          17.055,
          17.055,
          17.055,
          17.055,
          7.013,
          7.013,
          7.013,
          7.013,
          7.013,
          7.013,
          7.013,
          7.013,
          7.013,
          7.013,
          7.013,
          7.013,
          7.013,
          7.013,
          7.013,
          7.013,
          17.055,
          17.055,
          17.055,
          17.055,
          17.055,
          17.055,
          17.055,
          17.055,
          7.013,
          7.013,
          7.013,
          7.013,
          7.013
         ]
        },
        {
         "mode": "lines+markers",
         "name": "D1.2_wntr_sell",
         "type": "scatter",
         "x": [
          0,
          1,
          2,
          3,
          4,
          5,
          6,
          7,
          8,
          9,
          10,
          11,
          12,
          13,
          14,
          15,
          16,
          17,
          18,
          19,
          20,
          21,
          22,
          23
         ],
         "y": [
          6.814,
          6.814,
          6.814,
          6.814,
          6.814,
          6.814,
          6.814,
          6.814,
          6.814,
          6.814,
          6.814,
          14.704,
          14.704,
          14.704,
          14.704,
          14.704,
          14.704,
          14.704,
          14.704,
          6.814,
          6.814,
          6.814,
          6.814,
          6.814,
          6.814,
          6.814,
          6.814,
          6.814,
          6.814,
          6.814,
          6.814,
          6.814,
          6.814,
          6.814,
          6.814,
          14.704,
          14.704,
          14.704,
          14.704,
          14.704,
          14.704,
          14.704,
          14.704,
          6.814,
          6.814,
          6.814,
          6.814,
          6.814,
          6.814,
          6.814,
          6.814,
          6.814,
          6.814,
          6.814,
          6.814,
          6.814,
          6.814,
          6.814,
          6.814,
          14.704,
          14.704,
          14.704,
          14.704,
          14.704,
          14.704,
          14.704,
          14.704,
          6.814,
          6.814,
          6.814,
          6.814,
          6.814,
          6.814,
          6.814,
          6.814,
          6.814,
          6.814,
          6.814,
          6.814,
          6.814,
          6.814,
          6.814,
          6.814,
          14.704,
          14.704,
          14.704,
          14.704,
          14.704,
          14.704,
          14.704,
          14.704,
          6.814,
          6.814,
          6.814,
          6.814,
          6.814,
          6.814,
          6.814,
          6.814,
          6.814,
          6.814,
          6.814,
          6.814,
          6.814,
          6.814,
          6.814,
          6.814,
          14.704,
          14.704,
          14.704,
          14.704,
          14.704,
          14.704,
          14.704,
          14.704,
          6.814,
          6.814,
          6.814,
          6.814,
          6.814,
          6.814,
          6.814,
          6.814,
          6.814,
          6.814,
          6.814,
          6.814,
          6.814,
          6.814,
          6.814,
          6.814,
          14.704,
          14.704,
          14.704,
          14.704,
          14.704,
          14.704,
          14.704,
          14.704,
          6.814,
          6.814,
          6.814,
          6.814,
          6.814,
          6.814,
          6.814,
          6.814,
          6.814,
          6.814,
          6.814,
          6.814,
          6.814,
          6.814,
          6.814,
          6.814,
          14.704,
          14.704,
          14.704,
          14.704,
          14.704,
          14.704,
          14.704,
          14.704,
          6.814,
          6.814,
          6.814,
          6.814,
          6.814
         ]
        }
       ],
       "layout": {
        "template": {
         "data": {
          "bar": [
           {
            "error_x": {
             "color": "#2a3f5f"
            },
            "error_y": {
             "color": "#2a3f5f"
            },
            "marker": {
             "line": {
              "color": "#E5ECF6",
              "width": 0.5
             },
             "pattern": {
              "fillmode": "overlay",
              "size": 10,
              "solidity": 0.2
             }
            },
            "type": "bar"
           }
          ],
          "barpolar": [
           {
            "marker": {
             "line": {
              "color": "#E5ECF6",
              "width": 0.5
             },
             "pattern": {
              "fillmode": "overlay",
              "size": 10,
              "solidity": 0.2
             }
            },
            "type": "barpolar"
           }
          ],
          "carpet": [
           {
            "aaxis": {
             "endlinecolor": "#2a3f5f",
             "gridcolor": "white",
             "linecolor": "white",
             "minorgridcolor": "white",
             "startlinecolor": "#2a3f5f"
            },
            "baxis": {
             "endlinecolor": "#2a3f5f",
             "gridcolor": "white",
             "linecolor": "white",
             "minorgridcolor": "white",
             "startlinecolor": "#2a3f5f"
            },
            "type": "carpet"
           }
          ],
          "choropleth": [
           {
            "colorbar": {
             "outlinewidth": 0,
             "ticks": ""
            },
            "type": "choropleth"
           }
          ],
          "contour": [
           {
            "colorbar": {
             "outlinewidth": 0,
             "ticks": ""
            },
            "colorscale": [
             [
              0,
              "#0d0887"
             ],
             [
              0.1111111111111111,
              "#46039f"
             ],
             [
              0.2222222222222222,
              "#7201a8"
             ],
             [
              0.3333333333333333,
              "#9c179e"
             ],
             [
              0.4444444444444444,
              "#bd3786"
             ],
             [
              0.5555555555555556,
              "#d8576b"
             ],
             [
              0.6666666666666666,
              "#ed7953"
             ],
             [
              0.7777777777777778,
              "#fb9f3a"
             ],
             [
              0.8888888888888888,
              "#fdca26"
             ],
             [
              1,
              "#f0f921"
             ]
            ],
            "type": "contour"
           }
          ],
          "contourcarpet": [
           {
            "colorbar": {
             "outlinewidth": 0,
             "ticks": ""
            },
            "type": "contourcarpet"
           }
          ],
          "heatmap": [
           {
            "colorbar": {
             "outlinewidth": 0,
             "ticks": ""
            },
            "colorscale": [
             [
              0,
              "#0d0887"
             ],
             [
              0.1111111111111111,
              "#46039f"
             ],
             [
              0.2222222222222222,
              "#7201a8"
             ],
             [
              0.3333333333333333,
              "#9c179e"
             ],
             [
              0.4444444444444444,
              "#bd3786"
             ],
             [
              0.5555555555555556,
              "#d8576b"
             ],
             [
              0.6666666666666666,
              "#ed7953"
             ],
             [
              0.7777777777777778,
              "#fb9f3a"
             ],
             [
              0.8888888888888888,
              "#fdca26"
             ],
             [
              1,
              "#f0f921"
             ]
            ],
            "type": "heatmap"
           }
          ],
          "heatmapgl": [
           {
            "colorbar": {
             "outlinewidth": 0,
             "ticks": ""
            },
            "colorscale": [
             [
              0,
              "#0d0887"
             ],
             [
              0.1111111111111111,
              "#46039f"
             ],
             [
              0.2222222222222222,
              "#7201a8"
             ],
             [
              0.3333333333333333,
              "#9c179e"
             ],
             [
              0.4444444444444444,
              "#bd3786"
             ],
             [
              0.5555555555555556,
              "#d8576b"
             ],
             [
              0.6666666666666666,
              "#ed7953"
             ],
             [
              0.7777777777777778,
              "#fb9f3a"
             ],
             [
              0.8888888888888888,
              "#fdca26"
             ],
             [
              1,
              "#f0f921"
             ]
            ],
            "type": "heatmapgl"
           }
          ],
          "histogram": [
           {
            "marker": {
             "pattern": {
              "fillmode": "overlay",
              "size": 10,
              "solidity": 0.2
             }
            },
            "type": "histogram"
           }
          ],
          "histogram2d": [
           {
            "colorbar": {
             "outlinewidth": 0,
             "ticks": ""
            },
            "colorscale": [
             [
              0,
              "#0d0887"
             ],
             [
              0.1111111111111111,
              "#46039f"
             ],
             [
              0.2222222222222222,
              "#7201a8"
             ],
             [
              0.3333333333333333,
              "#9c179e"
             ],
             [
              0.4444444444444444,
              "#bd3786"
             ],
             [
              0.5555555555555556,
              "#d8576b"
             ],
             [
              0.6666666666666666,
              "#ed7953"
             ],
             [
              0.7777777777777778,
              "#fb9f3a"
             ],
             [
              0.8888888888888888,
              "#fdca26"
             ],
             [
              1,
              "#f0f921"
             ]
            ],
            "type": "histogram2d"
           }
          ],
          "histogram2dcontour": [
           {
            "colorbar": {
             "outlinewidth": 0,
             "ticks": ""
            },
            "colorscale": [
             [
              0,
              "#0d0887"
             ],
             [
              0.1111111111111111,
              "#46039f"
             ],
             [
              0.2222222222222222,
              "#7201a8"
             ],
             [
              0.3333333333333333,
              "#9c179e"
             ],
             [
              0.4444444444444444,
              "#bd3786"
             ],
             [
              0.5555555555555556,
              "#d8576b"
             ],
             [
              0.6666666666666666,
              "#ed7953"
             ],
             [
              0.7777777777777778,
              "#fb9f3a"
             ],
             [
              0.8888888888888888,
              "#fdca26"
             ],
             [
              1,
              "#f0f921"
             ]
            ],
            "type": "histogram2dcontour"
           }
          ],
          "mesh3d": [
           {
            "colorbar": {
             "outlinewidth": 0,
             "ticks": ""
            },
            "type": "mesh3d"
           }
          ],
          "parcoords": [
           {
            "line": {
             "colorbar": {
              "outlinewidth": 0,
              "ticks": ""
             }
            },
            "type": "parcoords"
           }
          ],
          "pie": [
           {
            "automargin": true,
            "type": "pie"
           }
          ],
          "scatter": [
           {
            "fillpattern": {
             "fillmode": "overlay",
             "size": 10,
             "solidity": 0.2
            },
            "type": "scatter"
           }
          ],
          "scatter3d": [
           {
            "line": {
             "colorbar": {
              "outlinewidth": 0,
              "ticks": ""
             }
            },
            "marker": {
             "colorbar": {
              "outlinewidth": 0,
              "ticks": ""
             }
            },
            "type": "scatter3d"
           }
          ],
          "scattercarpet": [
           {
            "marker": {
             "colorbar": {
              "outlinewidth": 0,
              "ticks": ""
             }
            },
            "type": "scattercarpet"
           }
          ],
          "scattergeo": [
           {
            "marker": {
             "colorbar": {
              "outlinewidth": 0,
              "ticks": ""
             }
            },
            "type": "scattergeo"
           }
          ],
          "scattergl": [
           {
            "marker": {
             "colorbar": {
              "outlinewidth": 0,
              "ticks": ""
             }
            },
            "type": "scattergl"
           }
          ],
          "scattermapbox": [
           {
            "marker": {
             "colorbar": {
              "outlinewidth": 0,
              "ticks": ""
             }
            },
            "type": "scattermapbox"
           }
          ],
          "scatterpolar": [
           {
            "marker": {
             "colorbar": {
              "outlinewidth": 0,
              "ticks": ""
             }
            },
            "type": "scatterpolar"
           }
          ],
          "scatterpolargl": [
           {
            "marker": {
             "colorbar": {
              "outlinewidth": 0,
              "ticks": ""
             }
            },
            "type": "scatterpolargl"
           }
          ],
          "scatterternary": [
           {
            "marker": {
             "colorbar": {
              "outlinewidth": 0,
              "ticks": ""
             }
            },
            "type": "scatterternary"
           }
          ],
          "surface": [
           {
            "colorbar": {
             "outlinewidth": 0,
             "ticks": ""
            },
            "colorscale": [
             [
              0,
              "#0d0887"
             ],
             [
              0.1111111111111111,
              "#46039f"
             ],
             [
              0.2222222222222222,
              "#7201a8"
             ],
             [
              0.3333333333333333,
              "#9c179e"
             ],
             [
              0.4444444444444444,
              "#bd3786"
             ],
             [
              0.5555555555555556,
              "#d8576b"
             ],
             [
              0.6666666666666666,
              "#ed7953"
             ],
             [
              0.7777777777777778,
              "#fb9f3a"
             ],
             [
              0.8888888888888888,
              "#fdca26"
             ],
             [
              1,
              "#f0f921"
             ]
            ],
            "type": "surface"
           }
          ],
          "table": [
           {
            "cells": {
             "fill": {
              "color": "#EBF0F8"
             },
             "line": {
              "color": "white"
             }
            },
            "header": {
             "fill": {
              "color": "#C8D4E3"
             },
             "line": {
              "color": "white"
             }
            },
            "type": "table"
           }
          ]
         },
         "layout": {
          "annotationdefaults": {
           "arrowcolor": "#2a3f5f",
           "arrowhead": 0,
           "arrowwidth": 1
          },
          "autotypenumbers": "strict",
          "coloraxis": {
           "colorbar": {
            "outlinewidth": 0,
            "ticks": ""
           }
          },
          "colorscale": {
           "diverging": [
            [
             0,
             "#8e0152"
            ],
            [
             0.1,
             "#c51b7d"
            ],
            [
             0.2,
             "#de77ae"
            ],
            [
             0.3,
             "#f1b6da"
            ],
            [
             0.4,
             "#fde0ef"
            ],
            [
             0.5,
             "#f7f7f7"
            ],
            [
             0.6,
             "#e6f5d0"
            ],
            [
             0.7,
             "#b8e186"
            ],
            [
             0.8,
             "#7fbc41"
            ],
            [
             0.9,
             "#4d9221"
            ],
            [
             1,
             "#276419"
            ]
           ],
           "sequential": [
            [
             0,
             "#0d0887"
            ],
            [
             0.1111111111111111,
             "#46039f"
            ],
            [
             0.2222222222222222,
             "#7201a8"
            ],
            [
             0.3333333333333333,
             "#9c179e"
            ],
            [
             0.4444444444444444,
             "#bd3786"
            ],
            [
             0.5555555555555556,
             "#d8576b"
            ],
            [
             0.6666666666666666,
             "#ed7953"
            ],
            [
             0.7777777777777778,
             "#fb9f3a"
            ],
            [
             0.8888888888888888,
             "#fdca26"
            ],
            [
             1,
             "#f0f921"
            ]
           ],
           "sequentialminus": [
            [
             0,
             "#0d0887"
            ],
            [
             0.1111111111111111,
             "#46039f"
            ],
            [
             0.2222222222222222,
             "#7201a8"
            ],
            [
             0.3333333333333333,
             "#9c179e"
            ],
            [
             0.4444444444444444,
             "#bd3786"
            ],
            [
             0.5555555555555556,
             "#d8576b"
            ],
            [
             0.6666666666666666,
             "#ed7953"
            ],
            [
             0.7777777777777778,
             "#fb9f3a"
            ],
            [
             0.8888888888888888,
             "#fdca26"
            ],
            [
             1,
             "#f0f921"
            ]
           ]
          },
          "colorway": [
           "#636efa",
           "#EF553B",
           "#00cc96",
           "#ab63fa",
           "#FFA15A",
           "#19d3f3",
           "#FF6692",
           "#B6E880",
           "#FF97FF",
           "#FECB52"
          ],
          "font": {
           "color": "#2a3f5f"
          },
          "geo": {
           "bgcolor": "white",
           "lakecolor": "white",
           "landcolor": "#E5ECF6",
           "showlakes": true,
           "showland": true,
           "subunitcolor": "white"
          },
          "hoverlabel": {
           "align": "left"
          },
          "hovermode": "closest",
          "mapbox": {
           "style": "light"
          },
          "paper_bgcolor": "white",
          "plot_bgcolor": "#E5ECF6",
          "polar": {
           "angularaxis": {
            "gridcolor": "white",
            "linecolor": "white",
            "ticks": ""
           },
           "bgcolor": "#E5ECF6",
           "radialaxis": {
            "gridcolor": "white",
            "linecolor": "white",
            "ticks": ""
           }
          },
          "scene": {
           "xaxis": {
            "backgroundcolor": "#E5ECF6",
            "gridcolor": "white",
            "gridwidth": 2,
            "linecolor": "white",
            "showbackground": true,
            "ticks": "",
            "zerolinecolor": "white"
           },
           "yaxis": {
            "backgroundcolor": "#E5ECF6",
            "gridcolor": "white",
            "gridwidth": 2,
            "linecolor": "white",
            "showbackground": true,
            "ticks": "",
            "zerolinecolor": "white"
           },
           "zaxis": {
            "backgroundcolor": "#E5ECF6",
            "gridcolor": "white",
            "gridwidth": 2,
            "linecolor": "white",
            "showbackground": true,
            "ticks": "",
            "zerolinecolor": "white"
           }
          },
          "shapedefaults": {
           "line": {
            "color": "#2a3f5f"
           }
          },
          "ternary": {
           "aaxis": {
            "gridcolor": "white",
            "linecolor": "white",
            "ticks": ""
           },
           "baxis": {
            "gridcolor": "white",
            "linecolor": "white",
            "ticks": ""
           },
           "bgcolor": "#E5ECF6",
           "caxis": {
            "gridcolor": "white",
            "linecolor": "white",
            "ticks": ""
           }
          },
          "title": {
           "x": 0.05
          },
          "xaxis": {
           "automargin": true,
           "gridcolor": "white",
           "linecolor": "white",
           "ticks": "",
           "title": {
            "standoff": 15
           },
           "zerolinecolor": "white",
           "zerolinewidth": 2
          },
          "yaxis": {
           "automargin": true,
           "gridcolor": "white",
           "linecolor": "white",
           "ticks": "",
           "title": {
            "standoff": 15
           },
           "zerolinecolor": "white",
           "zerolinewidth": 2
          }
         }
        },
        "xaxis": {
         "title": {
          "text": "time (hour)"
         }
        },
        "yaxis": {
         "title": {
          "text": "sell-back rate (¢/kWh)"
         }
        }
       }
      }
     },
     "metadata": {},
     "output_type": "display_data"
    }
   ],
   "source": [
    "# plot rates\n",
    "\n",
    "import plotly.graph_objects as go\n",
    "import numpy as np\n",
    "fig = go.Figure()\n",
    "fig.add_trace(\n",
    "    go.Scatter(\n",
    "        x=np.linspace(0, 23, 24),\n",
    "        y=D1_8.sell,\n",
    "        name=\"D1.8_sell\",\n",
    "        mode=\"lines+markers\",\n",
    "    )\n",
    ")\n",
    "fig.add_trace(\n",
    "    go.Scatter(\n",
    "        x=np.linspace(0, 23, 24),\n",
    "        y=D1_11.smmr_sell,\n",
    "        name=\"D1.11_smmr_sell\",\n",
    "        mode=\"lines+markers\",\n",
    "    )\n",
    ")\n",
    "fig.add_trace(\n",
    "    go.Scatter(\n",
    "        x=np.linspace(0, 23, 24),\n",
    "        y=D1_11.wntr_sell,\n",
    "        name=\"D1.11_wntr_sell\",\n",
    "        mode=\"lines+markers\",\n",
    "    )\n",
    ")\n",
    "fig.add_trace(\n",
    "    go.Scatter(\n",
    "        x=np.linspace(0, 23, 24),\n",
    "        y=D1_2.smmr_sell,\n",
    "        name=\"D1.2_smmr_sell\",\n",
    "        mode=\"lines+markers\",\n",
    "    )\n",
    ")\n",
    "fig.add_trace(\n",
    "    go.Scatter(\n",
    "        x=np.linspace(0, 23, 24),\n",
    "        y=D1_2.wntr_sell,\n",
    "        name=\"D1.2_wntr_sell\",\n",
    "        mode=\"lines+markers\",\n",
    "    )\n",
    ")\n",
    "# Update axis labels\n",
    "fig.update_xaxes(title_text=\"time (hour)\")\n",
    "\n",
    "# fig.update_yaxes\n",
    "fig.update_yaxes(title_text=\"sell-back rate (¢/kWh)\")\n",
    "\n",
    "# plot output\n",
    "fig.show(\"svg\")\n"
   ]
  },
  {
   "cell_type": "code",
   "execution_count": 27,
   "metadata": {},
   "outputs": [
    {
     "data": {
      "application/vnd.plotly.v1+json": {
       "config": {
        "plotlyServerURL": "https://plot.ly"
       },
       "data": [
        {
         "mode": "lines+markers",
         "name": "D1.8_buy",
         "type": "scatter",
         "x": [
          0,
          1,
          2,
          3,
          4,
          5,
          6,
          7,
          8,
          9,
          10,
          11,
          12,
          13,
          14,
          15,
          16,
          17,
          18,
          19,
          20,
          21,
          22,
          23
         ],
         "y": [
          13.383,
          13.383,
          13.383,
          13.383,
          13.383,
          13.383,
          13.383,
          17.685,
          17.685,
          17.685,
          17.685,
          17.685,
          17.685,
          17.685,
          17.685,
          24.857,
          24.857,
          24.857,
          24.857,
          17.685,
          17.685,
          17.685,
          17.685,
          13.383
         ]
        },
        {
         "mode": "lines+markers",
         "name": "D1.11_smmr_buy",
         "type": "scatter",
         "x": [
          0,
          1,
          2,
          3,
          4,
          5,
          6,
          7,
          8,
          9,
          10,
          11,
          12,
          13,
          14,
          15,
          16,
          17,
          18,
          19,
          20,
          21,
          22,
          23
         ],
         "y": [
          17.369999999999997,
          17.369999999999997,
          17.369999999999997,
          17.369999999999997,
          17.369999999999997,
          17.369999999999997,
          17.369999999999997,
          17.369999999999997,
          17.369999999999997,
          17.369999999999997,
          17.369999999999997,
          17.369999999999997,
          17.369999999999997,
          17.369999999999997,
          17.369999999999997,
          22.897,
          22.897,
          22.897,
          22.897,
          17.369999999999997,
          17.369999999999997,
          17.369999999999997,
          17.369999999999997,
          17.369999999999997,
          17.369999999999997,
          17.369999999999997,
          17.369999999999997,
          17.369999999999997,
          17.369999999999997,
          17.369999999999997,
          17.369999999999997,
          17.369999999999997,
          17.369999999999997,
          17.369999999999997,
          17.369999999999997,
          17.369999999999997,
          17.369999999999997,
          17.369999999999997,
          17.369999999999997,
          22.897,
          22.897,
          22.897,
          22.897,
          17.369999999999997,
          17.369999999999997,
          17.369999999999997,
          17.369999999999997,
          17.369999999999997,
          17.369999999999997,
          17.369999999999997,
          17.369999999999997,
          17.369999999999997,
          17.369999999999997,
          17.369999999999997,
          17.369999999999997,
          17.369999999999997,
          17.369999999999997,
          17.369999999999997,
          17.369999999999997,
          17.369999999999997,
          17.369999999999997,
          17.369999999999997,
          17.369999999999997,
          22.897,
          22.897,
          22.897,
          22.897,
          17.369999999999997,
          17.369999999999997,
          17.369999999999997,
          17.369999999999997,
          17.369999999999997,
          17.369999999999997,
          17.369999999999997,
          17.369999999999997,
          17.369999999999997,
          17.369999999999997,
          17.369999999999997,
          17.369999999999997,
          17.369999999999997,
          17.369999999999997,
          17.369999999999997,
          17.369999999999997,
          17.369999999999997,
          17.369999999999997,
          17.369999999999997,
          17.369999999999997,
          22.897,
          22.897,
          22.897,
          22.897,
          17.369999999999997,
          17.369999999999997,
          17.369999999999997,
          17.369999999999997,
          17.369999999999997
         ]
        },
        {
         "mode": "lines+markers",
         "name": "D1.11_wntr_buy",
         "type": "scatter",
         "x": [
          0,
          1,
          2,
          3,
          4,
          5,
          6,
          7,
          8,
          9,
          10,
          11,
          12,
          13,
          14,
          15,
          16,
          17,
          18,
          19,
          20,
          21,
          22,
          23
         ],
         "y": [
          17.369999999999997,
          17.369999999999997,
          17.369999999999997,
          17.369999999999997,
          17.369999999999997,
          17.369999999999997,
          17.369999999999997,
          17.369999999999997,
          17.369999999999997,
          17.369999999999997,
          17.369999999999997,
          17.369999999999997,
          17.369999999999997,
          17.369999999999997,
          17.369999999999997,
          18.668999999999997,
          18.668999999999997,
          18.668999999999997,
          18.668999999999997,
          17.369999999999997,
          17.369999999999997,
          17.369999999999997,
          17.369999999999997,
          17.369999999999997,
          17.369999999999997,
          17.369999999999997,
          17.369999999999997,
          17.369999999999997,
          17.369999999999997,
          17.369999999999997,
          17.369999999999997,
          17.369999999999997,
          17.369999999999997,
          17.369999999999997,
          17.369999999999997,
          17.369999999999997,
          17.369999999999997,
          17.369999999999997,
          17.369999999999997,
          18.668999999999997,
          18.668999999999997,
          18.668999999999997,
          18.668999999999997,
          17.369999999999997,
          17.369999999999997,
          17.369999999999997,
          17.369999999999997,
          17.369999999999997,
          17.369999999999997,
          17.369999999999997,
          17.369999999999997,
          17.369999999999997,
          17.369999999999997,
          17.369999999999997,
          17.369999999999997,
          17.369999999999997,
          17.369999999999997,
          17.369999999999997,
          17.369999999999997,
          17.369999999999997,
          17.369999999999997,
          17.369999999999997,
          17.369999999999997,
          18.668999999999997,
          18.668999999999997,
          18.668999999999997,
          18.668999999999997,
          17.369999999999997,
          17.369999999999997,
          17.369999999999997,
          17.369999999999997,
          17.369999999999997,
          17.369999999999997,
          17.369999999999997,
          17.369999999999997,
          17.369999999999997,
          17.369999999999997,
          17.369999999999997,
          17.369999999999997,
          17.369999999999997,
          17.369999999999997,
          17.369999999999997,
          17.369999999999997,
          17.369999999999997,
          17.369999999999997,
          17.369999999999997,
          17.369999999999997,
          18.668999999999997,
          18.668999999999997,
          18.668999999999997,
          18.668999999999997,
          17.369999999999997,
          17.369999999999997,
          17.369999999999997,
          17.369999999999997,
          17.369999999999997,
          17.369999999999997,
          17.369999999999997,
          17.369999999999997,
          17.369999999999997,
          17.369999999999997,
          17.369999999999997,
          17.369999999999997,
          17.369999999999997,
          17.369999999999997,
          17.369999999999997,
          17.369999999999997,
          17.369999999999997,
          17.369999999999997,
          17.369999999999997,
          17.369999999999997,
          18.668999999999997,
          18.668999999999997,
          18.668999999999997,
          18.668999999999997,
          17.369999999999997,
          17.369999999999997,
          17.369999999999997,
          17.369999999999997,
          17.369999999999997,
          17.369999999999997,
          17.369999999999997,
          17.369999999999997,
          17.369999999999997,
          17.369999999999997,
          17.369999999999997,
          17.369999999999997,
          17.369999999999997,
          17.369999999999997,
          17.369999999999997,
          17.369999999999997,
          17.369999999999997,
          17.369999999999997,
          17.369999999999997,
          17.369999999999997,
          18.668999999999997,
          18.668999999999997,
          18.668999999999997,
          18.668999999999997,
          17.369999999999997,
          17.369999999999997,
          17.369999999999997,
          17.369999999999997,
          17.369999999999997,
          17.369999999999997,
          17.369999999999997,
          17.369999999999997,
          17.369999999999997,
          17.369999999999997,
          17.369999999999997,
          17.369999999999997,
          17.369999999999997,
          17.369999999999997,
          17.369999999999997,
          17.369999999999997,
          17.369999999999997,
          17.369999999999997,
          17.369999999999997,
          17.369999999999997,
          18.668999999999997,
          18.668999999999997,
          18.668999999999997,
          18.668999999999997,
          17.369999999999997,
          17.369999999999997,
          17.369999999999997,
          17.369999999999997,
          17.369999999999997,
          17.369999999999997,
          17.369999999999997,
          17.369999999999997,
          17.369999999999997,
          17.369999999999997,
          17.369999999999997,
          17.369999999999997,
          17.369999999999997,
          17.369999999999997,
          17.369999999999997,
          17.369999999999997,
          17.369999999999997,
          17.369999999999997,
          17.369999999999997,
          17.369999999999997,
          18.668999999999997,
          18.668999999999997,
          18.668999999999997,
          18.668999999999997,
          17.369999999999997,
          17.369999999999997,
          17.369999999999997,
          17.369999999999997,
          17.369999999999997
         ]
        },
        {
         "mode": "lines+markers",
         "name": "D1.2_smmr_buy",
         "type": "scatter",
         "x": [
          0,
          1,
          2,
          3,
          4,
          5,
          6,
          7,
          8,
          9,
          10,
          11,
          12,
          13,
          14,
          15,
          16,
          17,
          18,
          19,
          20,
          21,
          22,
          23
         ],
         "y": [
          13.892,
          13.892,
          13.892,
          13.892,
          13.892,
          13.892,
          13.892,
          13.892,
          13.892,
          13.892,
          13.892,
          23.933999999999997,
          23.933999999999997,
          23.933999999999997,
          23.933999999999997,
          23.933999999999997,
          23.933999999999997,
          23.933999999999997,
          23.933999999999997,
          13.892,
          13.892,
          13.892,
          13.892,
          13.892,
          13.892,
          13.892,
          13.892,
          13.892,
          13.892,
          13.892,
          13.892,
          13.892,
          13.892,
          13.892,
          13.892,
          23.933999999999997,
          23.933999999999997,
          23.933999999999997,
          23.933999999999997,
          23.933999999999997,
          23.933999999999997,
          23.933999999999997,
          23.933999999999997,
          13.892,
          13.892,
          13.892,
          13.892,
          13.892,
          13.892,
          13.892,
          13.892,
          13.892,
          13.892,
          13.892,
          13.892,
          13.892,
          13.892,
          13.892,
          13.892,
          23.933999999999997,
          23.933999999999997,
          23.933999999999997,
          23.933999999999997,
          23.933999999999997,
          23.933999999999997,
          23.933999999999997,
          23.933999999999997,
          13.892,
          13.892,
          13.892,
          13.892,
          13.892,
          13.892,
          13.892,
          13.892,
          13.892,
          13.892,
          13.892,
          13.892,
          13.892,
          13.892,
          13.892,
          13.892,
          23.933999999999997,
          23.933999999999997,
          23.933999999999997,
          23.933999999999997,
          23.933999999999997,
          23.933999999999997,
          23.933999999999997,
          23.933999999999997,
          13.892,
          13.892,
          13.892,
          13.892,
          13.892,
          13.892,
          13.892,
          13.892,
          13.892,
          13.892,
          13.892,
          13.892,
          13.892,
          13.892,
          13.892,
          13.892,
          23.933999999999997,
          23.933999999999997,
          23.933999999999997,
          23.933999999999997,
          23.933999999999997,
          23.933999999999997,
          23.933999999999997,
          23.933999999999997,
          13.892,
          13.892,
          13.892,
          13.892,
          13.892
         ]
        },
        {
         "mode": "lines+markers",
         "name": "D1.2_wntr_buy",
         "type": "scatter",
         "x": [
          0,
          1,
          2,
          3,
          4,
          5,
          6,
          7,
          8,
          9,
          10,
          11,
          12,
          13,
          14,
          15,
          16,
          17,
          18,
          19,
          20,
          21,
          22,
          23
         ],
         "y": [
          13.693,
          13.693,
          13.693,
          13.693,
          13.693,
          13.693,
          13.693,
          13.693,
          13.693,
          13.693,
          13.693,
          21.583,
          21.583,
          21.583,
          21.583,
          21.583,
          21.583,
          21.583,
          21.583,
          13.693,
          13.693,
          13.693,
          13.693,
          13.693,
          13.693,
          13.693,
          13.693,
          13.693,
          13.693,
          13.693,
          13.693,
          13.693,
          13.693,
          13.693,
          13.693,
          21.583,
          21.583,
          21.583,
          21.583,
          21.583,
          21.583,
          21.583,
          21.583,
          13.693,
          13.693,
          13.693,
          13.693,
          13.693,
          13.693,
          13.693,
          13.693,
          13.693,
          13.693,
          13.693,
          13.693,
          13.693,
          13.693,
          13.693,
          13.693,
          21.583,
          21.583,
          21.583,
          21.583,
          21.583,
          21.583,
          21.583,
          21.583,
          13.693,
          13.693,
          13.693,
          13.693,
          13.693,
          13.693,
          13.693,
          13.693,
          13.693,
          13.693,
          13.693,
          13.693,
          13.693,
          13.693,
          13.693,
          13.693,
          21.583,
          21.583,
          21.583,
          21.583,
          21.583,
          21.583,
          21.583,
          21.583,
          13.693,
          13.693,
          13.693,
          13.693,
          13.693,
          13.693,
          13.693,
          13.693,
          13.693,
          13.693,
          13.693,
          13.693,
          13.693,
          13.693,
          13.693,
          13.693,
          21.583,
          21.583,
          21.583,
          21.583,
          21.583,
          21.583,
          21.583,
          21.583,
          13.693,
          13.693,
          13.693,
          13.693,
          13.693,
          13.693,
          13.693,
          13.693,
          13.693,
          13.693,
          13.693,
          13.693,
          13.693,
          13.693,
          13.693,
          13.693,
          21.583,
          21.583,
          21.583,
          21.583,
          21.583,
          21.583,
          21.583,
          21.583,
          13.693,
          13.693,
          13.693,
          13.693,
          13.693,
          13.693,
          13.693,
          13.693,
          13.693,
          13.693,
          13.693,
          13.693,
          13.693,
          13.693,
          13.693,
          13.693,
          21.583,
          21.583,
          21.583,
          21.583,
          21.583,
          21.583,
          21.583,
          21.583,
          13.693,
          13.693,
          13.693,
          13.693,
          13.693
         ]
        }
       ],
       "layout": {
        "template": {
         "data": {
          "bar": [
           {
            "error_x": {
             "color": "#2a3f5f"
            },
            "error_y": {
             "color": "#2a3f5f"
            },
            "marker": {
             "line": {
              "color": "#E5ECF6",
              "width": 0.5
             },
             "pattern": {
              "fillmode": "overlay",
              "size": 10,
              "solidity": 0.2
             }
            },
            "type": "bar"
           }
          ],
          "barpolar": [
           {
            "marker": {
             "line": {
              "color": "#E5ECF6",
              "width": 0.5
             },
             "pattern": {
              "fillmode": "overlay",
              "size": 10,
              "solidity": 0.2
             }
            },
            "type": "barpolar"
           }
          ],
          "carpet": [
           {
            "aaxis": {
             "endlinecolor": "#2a3f5f",
             "gridcolor": "white",
             "linecolor": "white",
             "minorgridcolor": "white",
             "startlinecolor": "#2a3f5f"
            },
            "baxis": {
             "endlinecolor": "#2a3f5f",
             "gridcolor": "white",
             "linecolor": "white",
             "minorgridcolor": "white",
             "startlinecolor": "#2a3f5f"
            },
            "type": "carpet"
           }
          ],
          "choropleth": [
           {
            "colorbar": {
             "outlinewidth": 0,
             "ticks": ""
            },
            "type": "choropleth"
           }
          ],
          "contour": [
           {
            "colorbar": {
             "outlinewidth": 0,
             "ticks": ""
            },
            "colorscale": [
             [
              0,
              "#0d0887"
             ],
             [
              0.1111111111111111,
              "#46039f"
             ],
             [
              0.2222222222222222,
              "#7201a8"
             ],
             [
              0.3333333333333333,
              "#9c179e"
             ],
             [
              0.4444444444444444,
              "#bd3786"
             ],
             [
              0.5555555555555556,
              "#d8576b"
             ],
             [
              0.6666666666666666,
              "#ed7953"
             ],
             [
              0.7777777777777778,
              "#fb9f3a"
             ],
             [
              0.8888888888888888,
              "#fdca26"
             ],
             [
              1,
              "#f0f921"
             ]
            ],
            "type": "contour"
           }
          ],
          "contourcarpet": [
           {
            "colorbar": {
             "outlinewidth": 0,
             "ticks": ""
            },
            "type": "contourcarpet"
           }
          ],
          "heatmap": [
           {
            "colorbar": {
             "outlinewidth": 0,
             "ticks": ""
            },
            "colorscale": [
             [
              0,
              "#0d0887"
             ],
             [
              0.1111111111111111,
              "#46039f"
             ],
             [
              0.2222222222222222,
              "#7201a8"
             ],
             [
              0.3333333333333333,
              "#9c179e"
             ],
             [
              0.4444444444444444,
              "#bd3786"
             ],
             [
              0.5555555555555556,
              "#d8576b"
             ],
             [
              0.6666666666666666,
              "#ed7953"
             ],
             [
              0.7777777777777778,
              "#fb9f3a"
             ],
             [
              0.8888888888888888,
              "#fdca26"
             ],
             [
              1,
              "#f0f921"
             ]
            ],
            "type": "heatmap"
           }
          ],
          "heatmapgl": [
           {
            "colorbar": {
             "outlinewidth": 0,
             "ticks": ""
            },
            "colorscale": [
             [
              0,
              "#0d0887"
             ],
             [
              0.1111111111111111,
              "#46039f"
             ],
             [
              0.2222222222222222,
              "#7201a8"
             ],
             [
              0.3333333333333333,
              "#9c179e"
             ],
             [
              0.4444444444444444,
              "#bd3786"
             ],
             [
              0.5555555555555556,
              "#d8576b"
             ],
             [
              0.6666666666666666,
              "#ed7953"
             ],
             [
              0.7777777777777778,
              "#fb9f3a"
             ],
             [
              0.8888888888888888,
              "#fdca26"
             ],
             [
              1,
              "#f0f921"
             ]
            ],
            "type": "heatmapgl"
           }
          ],
          "histogram": [
           {
            "marker": {
             "pattern": {
              "fillmode": "overlay",
              "size": 10,
              "solidity": 0.2
             }
            },
            "type": "histogram"
           }
          ],
          "histogram2d": [
           {
            "colorbar": {
             "outlinewidth": 0,
             "ticks": ""
            },
            "colorscale": [
             [
              0,
              "#0d0887"
             ],
             [
              0.1111111111111111,
              "#46039f"
             ],
             [
              0.2222222222222222,
              "#7201a8"
             ],
             [
              0.3333333333333333,
              "#9c179e"
             ],
             [
              0.4444444444444444,
              "#bd3786"
             ],
             [
              0.5555555555555556,
              "#d8576b"
             ],
             [
              0.6666666666666666,
              "#ed7953"
             ],
             [
              0.7777777777777778,
              "#fb9f3a"
             ],
             [
              0.8888888888888888,
              "#fdca26"
             ],
             [
              1,
              "#f0f921"
             ]
            ],
            "type": "histogram2d"
           }
          ],
          "histogram2dcontour": [
           {
            "colorbar": {
             "outlinewidth": 0,
             "ticks": ""
            },
            "colorscale": [
             [
              0,
              "#0d0887"
             ],
             [
              0.1111111111111111,
              "#46039f"
             ],
             [
              0.2222222222222222,
              "#7201a8"
             ],
             [
              0.3333333333333333,
              "#9c179e"
             ],
             [
              0.4444444444444444,
              "#bd3786"
             ],
             [
              0.5555555555555556,
              "#d8576b"
             ],
             [
              0.6666666666666666,
              "#ed7953"
             ],
             [
              0.7777777777777778,
              "#fb9f3a"
             ],
             [
              0.8888888888888888,
              "#fdca26"
             ],
             [
              1,
              "#f0f921"
             ]
            ],
            "type": "histogram2dcontour"
           }
          ],
          "mesh3d": [
           {
            "colorbar": {
             "outlinewidth": 0,
             "ticks": ""
            },
            "type": "mesh3d"
           }
          ],
          "parcoords": [
           {
            "line": {
             "colorbar": {
              "outlinewidth": 0,
              "ticks": ""
             }
            },
            "type": "parcoords"
           }
          ],
          "pie": [
           {
            "automargin": true,
            "type": "pie"
           }
          ],
          "scatter": [
           {
            "fillpattern": {
             "fillmode": "overlay",
             "size": 10,
             "solidity": 0.2
            },
            "type": "scatter"
           }
          ],
          "scatter3d": [
           {
            "line": {
             "colorbar": {
              "outlinewidth": 0,
              "ticks": ""
             }
            },
            "marker": {
             "colorbar": {
              "outlinewidth": 0,
              "ticks": ""
             }
            },
            "type": "scatter3d"
           }
          ],
          "scattercarpet": [
           {
            "marker": {
             "colorbar": {
              "outlinewidth": 0,
              "ticks": ""
             }
            },
            "type": "scattercarpet"
           }
          ],
          "scattergeo": [
           {
            "marker": {
             "colorbar": {
              "outlinewidth": 0,
              "ticks": ""
             }
            },
            "type": "scattergeo"
           }
          ],
          "scattergl": [
           {
            "marker": {
             "colorbar": {
              "outlinewidth": 0,
              "ticks": ""
             }
            },
            "type": "scattergl"
           }
          ],
          "scattermapbox": [
           {
            "marker": {
             "colorbar": {
              "outlinewidth": 0,
              "ticks": ""
             }
            },
            "type": "scattermapbox"
           }
          ],
          "scatterpolar": [
           {
            "marker": {
             "colorbar": {
              "outlinewidth": 0,
              "ticks": ""
             }
            },
            "type": "scatterpolar"
           }
          ],
          "scatterpolargl": [
           {
            "marker": {
             "colorbar": {
              "outlinewidth": 0,
              "ticks": ""
             }
            },
            "type": "scatterpolargl"
           }
          ],
          "scatterternary": [
           {
            "marker": {
             "colorbar": {
              "outlinewidth": 0,
              "ticks": ""
             }
            },
            "type": "scatterternary"
           }
          ],
          "surface": [
           {
            "colorbar": {
             "outlinewidth": 0,
             "ticks": ""
            },
            "colorscale": [
             [
              0,
              "#0d0887"
             ],
             [
              0.1111111111111111,
              "#46039f"
             ],
             [
              0.2222222222222222,
              "#7201a8"
             ],
             [
              0.3333333333333333,
              "#9c179e"
             ],
             [
              0.4444444444444444,
              "#bd3786"
             ],
             [
              0.5555555555555556,
              "#d8576b"
             ],
             [
              0.6666666666666666,
              "#ed7953"
             ],
             [
              0.7777777777777778,
              "#fb9f3a"
             ],
             [
              0.8888888888888888,
              "#fdca26"
             ],
             [
              1,
              "#f0f921"
             ]
            ],
            "type": "surface"
           }
          ],
          "table": [
           {
            "cells": {
             "fill": {
              "color": "#EBF0F8"
             },
             "line": {
              "color": "white"
             }
            },
            "header": {
             "fill": {
              "color": "#C8D4E3"
             },
             "line": {
              "color": "white"
             }
            },
            "type": "table"
           }
          ]
         },
         "layout": {
          "annotationdefaults": {
           "arrowcolor": "#2a3f5f",
           "arrowhead": 0,
           "arrowwidth": 1
          },
          "autotypenumbers": "strict",
          "coloraxis": {
           "colorbar": {
            "outlinewidth": 0,
            "ticks": ""
           }
          },
          "colorscale": {
           "diverging": [
            [
             0,
             "#8e0152"
            ],
            [
             0.1,
             "#c51b7d"
            ],
            [
             0.2,
             "#de77ae"
            ],
            [
             0.3,
             "#f1b6da"
            ],
            [
             0.4,
             "#fde0ef"
            ],
            [
             0.5,
             "#f7f7f7"
            ],
            [
             0.6,
             "#e6f5d0"
            ],
            [
             0.7,
             "#b8e186"
            ],
            [
             0.8,
             "#7fbc41"
            ],
            [
             0.9,
             "#4d9221"
            ],
            [
             1,
             "#276419"
            ]
           ],
           "sequential": [
            [
             0,
             "#0d0887"
            ],
            [
             0.1111111111111111,
             "#46039f"
            ],
            [
             0.2222222222222222,
             "#7201a8"
            ],
            [
             0.3333333333333333,
             "#9c179e"
            ],
            [
             0.4444444444444444,
             "#bd3786"
            ],
            [
             0.5555555555555556,
             "#d8576b"
            ],
            [
             0.6666666666666666,
             "#ed7953"
            ],
            [
             0.7777777777777778,
             "#fb9f3a"
            ],
            [
             0.8888888888888888,
             "#fdca26"
            ],
            [
             1,
             "#f0f921"
            ]
           ],
           "sequentialminus": [
            [
             0,
             "#0d0887"
            ],
            [
             0.1111111111111111,
             "#46039f"
            ],
            [
             0.2222222222222222,
             "#7201a8"
            ],
            [
             0.3333333333333333,
             "#9c179e"
            ],
            [
             0.4444444444444444,
             "#bd3786"
            ],
            [
             0.5555555555555556,
             "#d8576b"
            ],
            [
             0.6666666666666666,
             "#ed7953"
            ],
            [
             0.7777777777777778,
             "#fb9f3a"
            ],
            [
             0.8888888888888888,
             "#fdca26"
            ],
            [
             1,
             "#f0f921"
            ]
           ]
          },
          "colorway": [
           "#636efa",
           "#EF553B",
           "#00cc96",
           "#ab63fa",
           "#FFA15A",
           "#19d3f3",
           "#FF6692",
           "#B6E880",
           "#FF97FF",
           "#FECB52"
          ],
          "font": {
           "color": "#2a3f5f"
          },
          "geo": {
           "bgcolor": "white",
           "lakecolor": "white",
           "landcolor": "#E5ECF6",
           "showlakes": true,
           "showland": true,
           "subunitcolor": "white"
          },
          "hoverlabel": {
           "align": "left"
          },
          "hovermode": "closest",
          "mapbox": {
           "style": "light"
          },
          "paper_bgcolor": "white",
          "plot_bgcolor": "#E5ECF6",
          "polar": {
           "angularaxis": {
            "gridcolor": "white",
            "linecolor": "white",
            "ticks": ""
           },
           "bgcolor": "#E5ECF6",
           "radialaxis": {
            "gridcolor": "white",
            "linecolor": "white",
            "ticks": ""
           }
          },
          "scene": {
           "xaxis": {
            "backgroundcolor": "#E5ECF6",
            "gridcolor": "white",
            "gridwidth": 2,
            "linecolor": "white",
            "showbackground": true,
            "ticks": "",
            "zerolinecolor": "white"
           },
           "yaxis": {
            "backgroundcolor": "#E5ECF6",
            "gridcolor": "white",
            "gridwidth": 2,
            "linecolor": "white",
            "showbackground": true,
            "ticks": "",
            "zerolinecolor": "white"
           },
           "zaxis": {
            "backgroundcolor": "#E5ECF6",
            "gridcolor": "white",
            "gridwidth": 2,
            "linecolor": "white",
            "showbackground": true,
            "ticks": "",
            "zerolinecolor": "white"
           }
          },
          "shapedefaults": {
           "line": {
            "color": "#2a3f5f"
           }
          },
          "ternary": {
           "aaxis": {
            "gridcolor": "white",
            "linecolor": "white",
            "ticks": ""
           },
           "baxis": {
            "gridcolor": "white",
            "linecolor": "white",
            "ticks": ""
           },
           "bgcolor": "#E5ECF6",
           "caxis": {
            "gridcolor": "white",
            "linecolor": "white",
            "ticks": ""
           }
          },
          "title": {
           "x": 0.05
          },
          "xaxis": {
           "automargin": true,
           "gridcolor": "white",
           "linecolor": "white",
           "ticks": "",
           "title": {
            "standoff": 15
           },
           "zerolinecolor": "white",
           "zerolinewidth": 2
          },
          "yaxis": {
           "automargin": true,
           "gridcolor": "white",
           "linecolor": "white",
           "ticks": "",
           "title": {
            "standoff": 15
           },
           "zerolinecolor": "white",
           "zerolinewidth": 2
          }
         }
        },
        "xaxis": {
         "title": {
          "text": "time (hour)"
         }
        },
        "yaxis": {
         "title": {
          "text": "purchase rate (¢/kWh)"
         }
        }
       }
      }
     },
     "metadata": {},
     "output_type": "display_data"
    }
   ],
   "source": [
    "fig2 = go.Figure()\n",
    "fig2.add_trace(\n",
    "    go.Scatter(\n",
    "        x=np.linspace(0, 23, 24),\n",
    "        y=D1_8.buy,\n",
    "        name=\"D1.8_buy\",\n",
    "        mode=\"lines+markers\",\n",
    "    )\n",
    ")\n",
    "fig2.add_trace(\n",
    "    go.Scatter(\n",
    "        x=np.linspace(0, 23, 24),\n",
    "        y=D1_11.smmr_buy,\n",
    "        name=\"D1.11_smmr_buy\",\n",
    "        mode=\"lines+markers\",\n",
    "    )\n",
    ")\n",
    "fig2.add_trace(\n",
    "    go.Scatter(\n",
    "        x=np.linspace(0, 23, 24),\n",
    "        y=D1_11.wntr_buy,\n",
    "        name=\"D1.11_wntr_buy\",\n",
    "        mode=\"lines+markers\",\n",
    "    )\n",
    ")\n",
    "fig2.add_trace(\n",
    "    go.Scatter(\n",
    "        x=np.linspace(0, 23, 24),\n",
    "        y=D1_2.smmr_buy,\n",
    "        name=\"D1.2_smmr_buy\",\n",
    "        mode=\"lines+markers\",\n",
    "    )\n",
    ")\n",
    "fig2.add_trace(\n",
    "    go.Scatter(\n",
    "        x=np.linspace(0, 23, 24),\n",
    "        y=D1_2.wntr_buy,\n",
    "        name=\"D1.2_wntr_buy\",\n",
    "        mode=\"lines+markers\",\n",
    "    )\n",
    ")\n",
    "# Update axis labels\n",
    "fig2.update_xaxes(title_text=\"time (hour)\")\n",
    "\n",
    "# fig.update_yaxes\n",
    "fig2.update_yaxes(title_text=\"purchase rate (¢/kWh)\")\n",
    "\n",
    "# plot output\n",
    "fig2.show(\"svg\")"
   ]
  },
  {
   "cell_type": "code",
   "execution_count": 28,
   "metadata": {},
   "outputs": [],
   "source": [
    "# Open JSON file containing solar array information\n",
    "f = open('solar_params.json')\n",
    "# Returns JSON object as a dictionary\n",
    "solar_info = json.load(f) \n",
    "# Close file\n",
    "f.close()"
   ]
  }
 ],
 "metadata": {
  "kernelspec": {
   "display_name": "Python 3",
   "language": "python",
   "name": "python3"
  },
  "language_info": {
   "codemirror_mode": {
    "name": "ipython",
    "version": 3
   },
   "file_extension": ".py",
   "mimetype": "text/x-python",
   "name": "python",
   "nbconvert_exporter": "python",
   "pygments_lexer": "ipython3",
   "version": "3.8.10"
  },
  "orig_nbformat": 4
 },
 "nbformat": 4,
 "nbformat_minor": 2
}
