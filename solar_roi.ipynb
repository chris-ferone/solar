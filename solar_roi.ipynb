{
 "cells": [
  {
   "cell_type": "markdown",
   "metadata": {},
   "source": [
    "# Solar Panel Return on Investment\n",
    "This notebook calculates the payback period and Return on Investment (ROI) of a ground mount solar panel array facing southwest in Ann Arbor, MI."
   ]
  },
  {
   "cell_type": "code",
   "execution_count": 20,
   "metadata": {},
   "outputs": [],
   "source": [
    "# Open JSON file containing electricity rates\n",
    "f = open('electricity_rates.json')\n",
    "# Returns JSON object as a dictionary\n",
    "elctr_rates = json.load(f) \n",
    "# Close file\n",
    "f.close()\n",
    "\n",
    "# Create class to calculate electricity rates purchase and sell back rates\n",
    "# DTE Residential Electric Pricing Options:\n",
    "# https://newlook.dteenergy.com/wps/wcm/connect/23195474-a4d1-4d38-aa30-a4426fd3336b/WholeHouseRateOptions.pdf?MOD=AJPERES\n",
    "\n",
    "class Rate:\n",
    "    def __init__(self, name, elctr_rates):\n",
    "        pscr = elctr_rates['time_invariant_costs'][0]['pscr']\n",
    "        self.distr = elctr_rates['time_invariant_costs'][0]['distr']\n",
    "\n",
    "        for rate in elctr_rates['time_varying_costs']:\n",
    "            if rate['name'] == name:\n",
    "                self.name = rate['name']              \n",
    "                if name == 'D1_8':\n",
    "                    self.peak = rate['peak_hours']\n",
    "                    self.mdpeak = rate['mdpeak_hours']\n",
    "                    self.peak_sell = rate['peak_cap'] + rate['peak_ncp'] + pscr\n",
    "                    self.midpk_sell = rate['midpk_cap'] + rate['midpk_ncp'] + pscr\n",
    "                    self.offpk_sell = rate['offpk_cap'] + rate['offpk_ncp'] + pscr\n",
    "                    self.peak_buy = self.peak_sell + self.distr\n",
    "                    self.midpk_buy = self.midpk_sell + self.distr  \n",
    "                    self.offpk_buy = self.offpk_sell + self.distr  \n",
    "                    # Print purchase rates\n",
    "                    if False:\n",
    "                        print(self.name + \" Purchase Rates\")\n",
    "                        print(\"\\tPeak: %.3f\" % self.peak_buy)\n",
    "                        print(\"\\tMid Peak: %.3f\" % self.midpk_buy)\n",
    "                        print(\"\\tOff Peak: %.3f\" % self.offpk_buy + \"\\n\")\n",
    "                if name == \"D1_11\" or name == \"D1_2\":\n",
    "                    self.smmr = rate['smmr_mnths']\n",
    "                    self.peak = rate['peak_hours']\n",
    "                    # Calculate cost to purchase and sell back electricity in the summer and\n",
    "                    # winter during on-peak and off-peak hours\n",
    "                    self.smmr_peak_sell = rate['smmr_peak_cap'] + rate['smmr_peak_ncp'] + pscr\n",
    "                    self.smmr_offpk_sell = rate['smmr_offpk_cap'] + rate['smmr_offpk_ncp'] + pscr\n",
    "                    self.wntr_peak_sell = rate['wntr_peak_cap'] + rate['wntr_peak_ncp'] + pscr\n",
    "                    self.wntr_offpk_sell = rate['wntr_offpk_cap'] + rate['wntr_offpk_ncp'] + pscr\n",
    "                    self.smmr_peak_buy = self.smmr_peak_sell + self.distr\n",
    "                    self.smmr_offpk_buy = self.smmr_offpk_sell + self.distr\n",
    "                    self.wntr_peak_buy = self.wntr_peak_sell + self.distr\n",
    "                    self.wntr_offpk_buy = self.wntr_offpk_sell + self.distr\n",
    "                    # Print purchase rates\n",
    "                    if False:\n",
    "                        print(self.name + \" Purchase Rates\")\n",
    "                        print(\"\\tSummer Peak: %.3f\" % self.smmr_peak_buy)\n",
    "                        print(\"\\tSummer OffP: %.3f\" % self.smmr_offpk_buy)\n",
    "                        print(\"\\tWinter Peak: %.3f\" % self.wntr_peak_buy)\n",
    "                        print(\"\\tWinter OffP: %.3f\" % self.wntr_offpk_buy + \"\\n\")\n",
    "   \n",
    "# Define electricity rates\n",
    "D1_11 = Rate(\"D1_11\", elctr_rates)\n",
    "D1_2 = Rate(\"D1_2\", elctr_rates)\n",
    "D1_8 = Rate(\"D1_8\", elctr_rates)"
   ]
  },
  {
   "cell_type": "code",
   "execution_count": 21,
   "metadata": {},
   "outputs": [
    {
     "name": "stdout",
     "output_type": "stream",
     "text": [
      "10.806\n"
     ]
    }
   ],
   "source": [
    "# plot rates\n",
    "print(D1_8.midpk_sell)"
   ]
  },
  {
   "cell_type": "code",
   "execution_count": 22,
   "metadata": {},
   "outputs": [],
   "source": [
    "# Open JSON file containing solar array information\n",
    "f = open('solar_params.json')\n",
    "# Returns JSON object as a dictionary\n",
    "solar_info = json.load(f) \n",
    "# Close file\n",
    "f.close()"
   ]
  }
 ],
 "metadata": {
  "kernelspec": {
   "display_name": "Python 3",
   "language": "python",
   "name": "python3"
  },
  "language_info": {
   "codemirror_mode": {
    "name": "ipython",
    "version": 3
   },
   "file_extension": ".py",
   "mimetype": "text/x-python",
   "name": "python",
   "nbconvert_exporter": "python",
   "pygments_lexer": "ipython3",
   "version": "3.8.10"
  },
  "orig_nbformat": 4
 },
 "nbformat": 4,
 "nbformat_minor": 2
}
